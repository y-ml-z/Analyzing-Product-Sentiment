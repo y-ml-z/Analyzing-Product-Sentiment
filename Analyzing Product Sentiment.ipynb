{
 "cells": [
  {
   "cell_type": "markdown",
   "metadata": {
    "colab_type": "text",
    "id": "wjPy14muQbli"
   },
   "source": [
    "# Analyzing Product Sentiment"
   ]
  },
  {
   "cell_type": "code",
   "execution_count": 0,
   "metadata": {
    "colab": {},
    "colab_type": "code",
    "id": "Zo1VufAx-sBL"
   },
   "outputs": [],
   "source": [
    "import os\n",
    "import pandas as pd\n",
    "import numpy as np\n",
    "import string\n",
    "from sklearn.feature_extraction.text import CountVectorizer\n",
    "import xgboost as xgb\n",
    "import matplotlib.pyplot as plt\n",
    "%matplotlib inline"
   ]
  },
  {
   "cell_type": "code",
   "execution_count": 0,
   "metadata": {
    "colab": {},
    "colab_type": "code",
    "id": "-l5Egb2Z-8lB"
   },
   "outputs": [],
   "source": [
    "df = pd.read_csv(\"data.csv\", delimiter=\",\")"
   ]
  },
  {
   "cell_type": "code",
   "execution_count": 0,
   "metadata": {
    "colab": {
     "base_uri": "https://localhost:8080/",
     "height": 142
    },
    "colab_type": "code",
    "id": "WkLOeZVj_AKL",
    "outputId": "224c9fba-cadc-4ca5-e6ad-450294e82dad"
   },
   "outputs": [
    {
     "data": {
      "text/html": [
       "<div>\n",
       "<style scoped>\n",
       "    .dataframe tbody tr th:only-of-type {\n",
       "        vertical-align: middle;\n",
       "    }\n",
       "\n",
       "    .dataframe tbody tr th {\n",
       "        vertical-align: top;\n",
       "    }\n",
       "\n",
       "    .dataframe thead th {\n",
       "        text-align: right;\n",
       "    }\n",
       "</style>\n",
       "<table border=\"1\" class=\"dataframe\">\n",
       "  <thead>\n",
       "    <tr style=\"text-align: right;\">\n",
       "      <th></th>\n",
       "      <th>name</th>\n",
       "      <th>review</th>\n",
       "      <th>rating</th>\n",
       "    </tr>\n",
       "  </thead>\n",
       "  <tbody>\n",
       "    <tr>\n",
       "      <th>0</th>\n",
       "      <td>Planetwise Flannel Wipes</td>\n",
       "      <td>These flannel wipes are OK, but in my opinion ...</td>\n",
       "      <td>3</td>\n",
       "    </tr>\n",
       "    <tr>\n",
       "      <th>1</th>\n",
       "      <td>Planetwise Wipe Pouch</td>\n",
       "      <td>it came early and was not disappointed. i love...</td>\n",
       "      <td>5</td>\n",
       "    </tr>\n",
       "    <tr>\n",
       "      <th>2</th>\n",
       "      <td>Annas Dream Full Quilt with 2 Shams</td>\n",
       "      <td>Very soft and comfortable and warmer than it l...</td>\n",
       "      <td>5</td>\n",
       "    </tr>\n",
       "  </tbody>\n",
       "</table>\n",
       "</div>"
      ],
      "text/plain": [
       "                                  name  ... rating\n",
       "0             Planetwise Flannel Wipes  ...      3\n",
       "1                Planetwise Wipe Pouch  ...      5\n",
       "2  Annas Dream Full Quilt with 2 Shams  ...      5\n",
       "\n",
       "[3 rows x 3 columns]"
      ]
     },
     "execution_count": 12,
     "metadata": {
      "tags": []
     },
     "output_type": "execute_result"
    }
   ],
   "source": [
    "df.head(3)"
   ]
  },
  {
   "cell_type": "markdown",
   "metadata": {
    "colab_type": "text",
    "id": "XiNZ55gNRl2v"
   },
   "source": [
    "Data pre-processing"
   ]
  },
  {
   "cell_type": "code",
   "execution_count": 0,
   "metadata": {
    "colab": {},
    "colab_type": "code",
    "id": "-IF4vTYG_DBm"
   },
   "outputs": [],
   "source": [
    "df = df.fillna({'review':''})  \n",
    "def remove(s):\n",
    "     return s.translate(None, string.punctuation) \n",
    "\n",
    "df['review_new'] = df['review'].apply(remove)"
   ]
  },
  {
   "cell_type": "code",
   "execution_count": 0,
   "metadata": {
    "colab": {
     "base_uri": "https://localhost:8080/",
     "height": 204
    },
    "colab_type": "code",
    "id": "PIDdsKUO_Ko1",
    "outputId": "adb25539-bdad-4a3c-bd5b-2c2d1286ef82"
   },
   "outputs": [
    {
     "data": {
      "text/html": [
       "<div>\n",
       "<style scoped>\n",
       "    .dataframe tbody tr th:only-of-type {\n",
       "        vertical-align: middle;\n",
       "    }\n",
       "\n",
       "    .dataframe tbody tr th {\n",
       "        vertical-align: top;\n",
       "    }\n",
       "\n",
       "    .dataframe thead th {\n",
       "        text-align: right;\n",
       "    }\n",
       "</style>\n",
       "<table border=\"1\" class=\"dataframe\">\n",
       "  <thead>\n",
       "    <tr style=\"text-align: right;\">\n",
       "      <th></th>\n",
       "      <th>name</th>\n",
       "      <th>review</th>\n",
       "      <th>rating</th>\n",
       "      <th>review_new</th>\n",
       "    </tr>\n",
       "  </thead>\n",
       "  <tbody>\n",
       "    <tr>\n",
       "      <th>0</th>\n",
       "      <td>Planetwise Flannel Wipes</td>\n",
       "      <td>These flannel wipes are OK, but in my opinion ...</td>\n",
       "      <td>3</td>\n",
       "      <td>These flannel wipes are OK but in my opinion n...</td>\n",
       "    </tr>\n",
       "    <tr>\n",
       "      <th>1</th>\n",
       "      <td>Planetwise Wipe Pouch</td>\n",
       "      <td>it came early and was not disappointed. i love...</td>\n",
       "      <td>5</td>\n",
       "      <td>it came early and was not disappointed i love ...</td>\n",
       "    </tr>\n",
       "    <tr>\n",
       "      <th>2</th>\n",
       "      <td>Annas Dream Full Quilt with 2 Shams</td>\n",
       "      <td>Very soft and comfortable and warmer than it l...</td>\n",
       "      <td>5</td>\n",
       "      <td>Very soft and comfortable and warmer than it l...</td>\n",
       "    </tr>\n",
       "    <tr>\n",
       "      <th>3</th>\n",
       "      <td>Stop Pacifier Sucking without tears with Thumb...</td>\n",
       "      <td>This is a product well worth the purchase.  I ...</td>\n",
       "      <td>5</td>\n",
       "      <td>This is a product well worth the purchase  I h...</td>\n",
       "    </tr>\n",
       "    <tr>\n",
       "      <th>4</th>\n",
       "      <td>Stop Pacifier Sucking without tears with Thumb...</td>\n",
       "      <td>All of my kids have cried non-stop when I trie...</td>\n",
       "      <td>5</td>\n",
       "      <td>All of my kids have cried nonstop when I tried...</td>\n",
       "    </tr>\n",
       "  </tbody>\n",
       "</table>\n",
       "</div>"
      ],
      "text/plain": [
       "                                                name  ...                                         review_new\n",
       "0                           Planetwise Flannel Wipes  ...  These flannel wipes are OK but in my opinion n...\n",
       "1                              Planetwise Wipe Pouch  ...  it came early and was not disappointed i love ...\n",
       "2                Annas Dream Full Quilt with 2 Shams  ...  Very soft and comfortable and warmer than it l...\n",
       "3  Stop Pacifier Sucking without tears with Thumb...  ...  This is a product well worth the purchase  I h...\n",
       "4  Stop Pacifier Sucking without tears with Thumb...  ...  All of my kids have cried nonstop when I tried...\n",
       "\n",
       "[5 rows x 4 columns]"
      ]
     },
     "execution_count": 16,
     "metadata": {
      "tags": []
     },
     "output_type": "execute_result"
    }
   ],
   "source": [
    "df.head(5)"
   ]
  },
  {
   "cell_type": "code",
   "execution_count": 0,
   "metadata": {
    "colab": {},
    "colab_type": "code",
    "id": "9RCBN3LR_VyS"
   },
   "outputs": [],
   "source": [
    "df['feel'] = df['rating'].apply(lambda rating : +1 if rating > 3 else -1)"
   ]
  },
  {
   "cell_type": "code",
   "execution_count": 0,
   "metadata": {
    "colab": {
     "base_uri": "https://localhost:8080/",
     "height": 204
    },
    "colab_type": "code",
    "id": "s0_1H4QJE2sd",
    "outputId": "f814b274-3d31-41a9-f4c7-8e44332590b9"
   },
   "outputs": [
    {
     "data": {
      "text/html": [
       "<div>\n",
       "<style scoped>\n",
       "    .dataframe tbody tr th:only-of-type {\n",
       "        vertical-align: middle;\n",
       "    }\n",
       "\n",
       "    .dataframe tbody tr th {\n",
       "        vertical-align: top;\n",
       "    }\n",
       "\n",
       "    .dataframe thead th {\n",
       "        text-align: right;\n",
       "    }\n",
       "</style>\n",
       "<table border=\"1\" class=\"dataframe\">\n",
       "  <thead>\n",
       "    <tr style=\"text-align: right;\">\n",
       "      <th></th>\n",
       "      <th>name</th>\n",
       "      <th>review</th>\n",
       "      <th>rating</th>\n",
       "      <th>review_new</th>\n",
       "      <th>feel</th>\n",
       "    </tr>\n",
       "  </thead>\n",
       "  <tbody>\n",
       "    <tr>\n",
       "      <th>0</th>\n",
       "      <td>Planetwise Flannel Wipes</td>\n",
       "      <td>These flannel wipes are OK, but in my opinion ...</td>\n",
       "      <td>3</td>\n",
       "      <td>These flannel wipes are OK but in my opinion n...</td>\n",
       "      <td>-1</td>\n",
       "    </tr>\n",
       "    <tr>\n",
       "      <th>1</th>\n",
       "      <td>Planetwise Wipe Pouch</td>\n",
       "      <td>it came early and was not disappointed. i love...</td>\n",
       "      <td>5</td>\n",
       "      <td>it came early and was not disappointed i love ...</td>\n",
       "      <td>1</td>\n",
       "    </tr>\n",
       "    <tr>\n",
       "      <th>2</th>\n",
       "      <td>Annas Dream Full Quilt with 2 Shams</td>\n",
       "      <td>Very soft and comfortable and warmer than it l...</td>\n",
       "      <td>5</td>\n",
       "      <td>Very soft and comfortable and warmer than it l...</td>\n",
       "      <td>1</td>\n",
       "    </tr>\n",
       "    <tr>\n",
       "      <th>3</th>\n",
       "      <td>Stop Pacifier Sucking without tears with Thumb...</td>\n",
       "      <td>This is a product well worth the purchase.  I ...</td>\n",
       "      <td>5</td>\n",
       "      <td>This is a product well worth the purchase  I h...</td>\n",
       "      <td>1</td>\n",
       "    </tr>\n",
       "    <tr>\n",
       "      <th>4</th>\n",
       "      <td>Stop Pacifier Sucking without tears with Thumb...</td>\n",
       "      <td>All of my kids have cried non-stop when I trie...</td>\n",
       "      <td>5</td>\n",
       "      <td>All of my kids have cried nonstop when I tried...</td>\n",
       "      <td>1</td>\n",
       "    </tr>\n",
       "  </tbody>\n",
       "</table>\n",
       "</div>"
      ],
      "text/plain": [
       "                                                name  ... feel\n",
       "0                           Planetwise Flannel Wipes  ...   -1\n",
       "1                              Planetwise Wipe Pouch  ...    1\n",
       "2                Annas Dream Full Quilt with 2 Shams  ...    1\n",
       "3  Stop Pacifier Sucking without tears with Thumb...  ...    1\n",
       "4  Stop Pacifier Sucking without tears with Thumb...  ...    1\n",
       "\n",
       "[5 rows x 5 columns]"
      ]
     },
     "execution_count": 21,
     "metadata": {
      "tags": []
     },
     "output_type": "execute_result"
    }
   ],
   "source": [
    "df.head(5)"
   ]
  },
  {
   "cell_type": "code",
   "execution_count": 0,
   "metadata": {
    "colab": {
     "base_uri": "https://localhost:8080/",
     "height": 283
    },
    "colab_type": "code",
    "id": "_wKVAzkdSgH6",
    "outputId": "a314ba20-3e32-4aa4-f29a-678f509b976f"
   },
   "outputs": [
    {
     "data": {
      "image/png": "[encoded data removed]",
      "text/plain": [
       "<Figure size 432x288 with 1 Axes>"
      ]
     },
     "metadata": {
      "tags": []
     },
     "output_type": "display_data"
    }
   ],
   "source": [
    "plt.scatter(df[\"rating\"], df[\"feel\"],  color='darkgreen')\n",
    "plt.xlabel(\"rating\")\n",
    "plt.ylabel(\"feel\")\n",
    "plt.show()"
   ]
  },
  {
   "cell_type": "code",
   "execution_count": 0,
   "metadata": {
    "colab": {
     "base_uri": "https://localhost:8080/",
     "height": 51
    },
    "colab_type": "code",
    "id": "t8yV_SkeE7gR",
    "outputId": "e0b00f8f-d385-4321-fb56-06b892a89c2e"
   },
   "outputs": [
    {
     "name": "stdout",
     "output_type": "stream",
     "text": [
      "[0, 1, 2]\n",
      "[8, 9, 14]\n"
     ]
    }
   ],
   "source": [
    "import json\n",
    "with open('test_data_idx.json') as test_data_file:    \n",
    "    test_data_idx = json.load(test_data_file)\n",
    "with open('train_data_idx.json') as train_data_file:    \n",
    "    train_data_idx = json.load(train_data_file)\n",
    "\n",
    "print train_data_idx[:3]\n",
    "print test_data_idx[:3]"
   ]
  },
  {
   "cell_type": "code",
   "execution_count": 0,
   "metadata": {
    "colab": {
     "base_uri": "https://localhost:8080/",
     "height": 111
    },
    "colab_type": "code",
    "id": "oSPKQazIGOsD",
    "outputId": "9e249fbf-c18d-4563-83c8-0118f4a1ca2e"
   },
   "outputs": [
    {
     "data": {
      "text/html": [
       "<div>\n",
       "<style scoped>\n",
       "    .dataframe tbody tr th:only-of-type {\n",
       "        vertical-align: middle;\n",
       "    }\n",
       "\n",
       "    .dataframe tbody tr th {\n",
       "        vertical-align: top;\n",
       "    }\n",
       "\n",
       "    .dataframe thead th {\n",
       "        text-align: right;\n",
       "    }\n",
       "</style>\n",
       "<table border=\"1\" class=\"dataframe\">\n",
       "  <thead>\n",
       "    <tr style=\"text-align: right;\">\n",
       "      <th></th>\n",
       "      <th>name</th>\n",
       "      <th>review</th>\n",
       "      <th>rating</th>\n",
       "      <th>review_new</th>\n",
       "      <th>feel</th>\n",
       "    </tr>\n",
       "  </thead>\n",
       "  <tbody>\n",
       "    <tr>\n",
       "      <th>8</th>\n",
       "      <td>Baby Tracker&amp;reg; - Daily Childcare Journal, S...</td>\n",
       "      <td>A friend of mine pinned this product on Pinter...</td>\n",
       "      <td>5</td>\n",
       "      <td>A friend of mine pinned this product on Pinter...</td>\n",
       "      <td>1</td>\n",
       "    </tr>\n",
       "    <tr>\n",
       "      <th>9</th>\n",
       "      <td>Baby Tracker&amp;reg; - Daily Childcare Journal, S...</td>\n",
       "      <td>This has been an easy way for my nanny to reco...</td>\n",
       "      <td>4</td>\n",
       "      <td>This has been an easy way for my nanny to reco...</td>\n",
       "      <td>1</td>\n",
       "    </tr>\n",
       "  </tbody>\n",
       "</table>\n",
       "</div>"
      ],
      "text/plain": [
       "                                                name  ... feel\n",
       "8  Baby Tracker&reg; - Daily Childcare Journal, S...  ...    1\n",
       "9  Baby Tracker&reg; - Daily Childcare Journal, S...  ...    1\n",
       "\n",
       "[2 rows x 5 columns]"
      ]
     },
     "execution_count": 33,
     "metadata": {
      "tags": []
     },
     "output_type": "execute_result"
    }
   ],
   "source": [
    "\n",
    "train_data = df.iloc[train_data_idx]\n",
    "test_data = df.iloc[test_data_idx]\n",
    "test_data.head(2)"
   ]
  },
  {
   "cell_type": "markdown",
   "metadata": {
    "colab_type": "text",
    "id": "UMmRLFxOR4A4"
   },
   "source": [
    "Model"
   ]
  },
  {
   "cell_type": "code",
   "execution_count": 0,
   "metadata": {
    "colab": {},
    "colab_type": "code",
    "id": "Qsv1II3oHWV9"
   },
   "outputs": [],
   "source": [
    "vectorizer = CountVectorizer(token_pattern=r'\\b\\w+\\b')\n",
    "\n",
    "train_matrix = vectorizer.fit_transform(train_data['review_new'])\n",
    "test_matrix = vectorizer.transform(test_data['review_new'])"
   ]
  },
  {
   "cell_type": "code",
   "execution_count": 0,
   "metadata": {
    "colab": {},
    "colab_type": "code",
    "id": "aNZjHOehIHpB"
   },
   "outputs": [],
   "source": [
    " gbm = xgb.XGBClassifier(max_depth=3, n_estimators=300, learning_rate=0.05).fit(train_matrix, train_data['feel'])"
   ]
  },
  {
   "cell_type": "code",
   "execution_count": 0,
   "metadata": {
    "colab": {
     "base_uri": "https://localhost:8080/",
     "height": 34
    },
    "colab_type": "code",
    "id": "E4OfaLQtIu_3",
    "outputId": "b9636fc6-870c-476d-98eb-11eb9a488f85"
   },
   "outputs": [
    {
     "name": "stdout",
     "output_type": "stream",
     "text": [
      "0.8364230861531078\n"
     ]
    }
   ],
   "source": [
    "predicted_y = gbm.predict(test_matrix)\n",
    "correct_num = np.sum(predicted_y == test_data['feel'])\n",
    "total_num = len(test_data['feel'])\n",
    "accuracy = correct_num * 1./ total_num\n",
    "print (accuracy)"
   ]
  },
  {
   "cell_type": "code",
   "execution_count": 0,
   "metadata": {
    "colab": {},
    "colab_type": "code",
    "id": "AHiXyjOuMvgI"
   },
   "outputs": [],
   "source": [
    "word_feel = ['love', 'great', 'easy', 'old', 'little', 'perfect', 'loves', \n",
    "      'well', 'able', 'broke', 'less', 'even', 'waste', 'disappointed']\n",
    "      \n",
    "vectorizer_word_subset = CountVectorizer(vocabulary=word_feel)  \n",
    "train_matrix_word_subset = vectorizer_word_subset.fit_transform(train_data['review_new'])\n",
    "test_matrix_word_subset = vectorizer_word_subset.transform(test_data['review_new'])"
   ]
  },
  {
   "cell_type": "code",
   "execution_count": 0,
   "metadata": {
    "colab": {},
    "colab_type": "code",
    "id": "HEYf2HU-NZ3t"
   },
   "outputs": [],
   "source": [
    "gb = xgb.XGBClassifier(max_depth=3, n_estimators=300, learning_rate=0.05).fit(train_matrix_word_subset, train_data['feel'])"
   ]
  },
  {
   "cell_type": "code",
   "execution_count": 0,
   "metadata": {
    "colab": {
     "base_uri": "https://localhost:8080/",
     "height": 34
    },
    "colab_type": "code",
    "id": "fc5z2KuuOW_s",
    "outputId": "2db6508e-dc40-46a9-d6d1-1b179658418f"
   },
   "outputs": [
    {
     "name": "stdout",
     "output_type": "stream",
     "text": [
      "simple_model test accuracy: 0.785787137029\n"
     ]
    }
   ],
   "source": [
    "test_predicted_y = gb.predict(test_matrix_word_subset)\n",
    "correct_num = np.sum(test_predicted_y == test_data['feel'])\n",
    "total_num = len(test_data['feel'])\n",
    "test_accuracy = correct_num * 1./ total_num\n",
    "print (\"simple_model test accuracy: {}\".format(test_accuracy))"
   ]
  },
  {
   "cell_type": "code",
   "execution_count": 0,
   "metadata": {
    "colab": {
     "base_uri": "https://localhost:8080/",
     "height": 34
    },
    "colab_type": "code",
    "id": "MVzoje52Nqui",
    "outputId": "83582771-66bc-4946-fecc-feab0db023aa"
   },
   "outputs": [
    {
     "name": "stdout",
     "output_type": "stream",
     "text": [
      "positive_label is 25478, negative_label is 7858\n"
     ]
    }
   ],
   "source": [
    "positive_label = len(test_data[test_data['feel']>0])\n",
    "negative_label = len(test_data[test_data['feel']<0])\n",
    "print \"positive_label is {}, negative_label is {}\".format(positive_label, negative_label)"
   ]
  },
  {
   "cell_type": "code",
   "execution_count": 0,
   "metadata": {
    "colab": {
     "base_uri": "https://localhost:8080/",
     "height": 221
    },
    "colab_type": "code",
    "id": "eq4SFKWbPKR6",
    "outputId": "e7e277b2-861d-42d9-8425-52181a12f8e1"
   },
   "outputs": [
    {
     "name": "stdout",
     "output_type": "stream",
     "text": [
      "-1\n"
     ]
    },
    {
     "data": {
      "text/html": [
       "<div>\n",
       "<style scoped>\n",
       "    .dataframe tbody tr th:only-of-type {\n",
       "        vertical-align: middle;\n",
       "    }\n",
       "\n",
       "    .dataframe tbody tr th {\n",
       "        vertical-align: top;\n",
       "    }\n",
       "\n",
       "    .dataframe thead th {\n",
       "        text-align: right;\n",
       "    }\n",
       "</style>\n",
       "<table border=\"1\" class=\"dataframe\">\n",
       "  <thead>\n",
       "    <tr style=\"text-align: right;\">\n",
       "      <th></th>\n",
       "      <th>name</th>\n",
       "      <th>review</th>\n",
       "      <th>rating</th>\n",
       "      <th>review_new</th>\n",
       "      <th>feel</th>\n",
       "    </tr>\n",
       "  </thead>\n",
       "  <tbody>\n",
       "    <tr>\n",
       "      <th>44680</th>\n",
       "      <td>QuickZip Crib Sheet Set, White</td>\n",
       "      <td>Works good to keep my toddler from pulling the...</td>\n",
       "      <td>4</td>\n",
       "      <td>Works good to keep my toddler from pulling the...</td>\n",
       "      <td>1</td>\n",
       "    </tr>\n",
       "    <tr>\n",
       "      <th>144348</th>\n",
       "      <td>Philips AVENT Thermal Gel Pads, 2-Pack</td>\n",
       "      <td>I do not really understand these gel pads -- m...</td>\n",
       "      <td>2</td>\n",
       "      <td>I do not really understand these gel pads  may...</td>\n",
       "      <td>-1</td>\n",
       "    </tr>\n",
       "    <tr>\n",
       "      <th>25939</th>\n",
       "      <td>Earlyears Fill n Fun Water Mat Toy</td>\n",
       "      <td>My 6-month old loved this while it lasted.  Sh...</td>\n",
       "      <td>3</td>\n",
       "      <td>My 6month old loved this while it lasted  She ...</td>\n",
       "      <td>-1</td>\n",
       "    </tr>\n",
       "    <tr>\n",
       "      <th>69442</th>\n",
       "      <td>Dr. Brown\\'s BPA Free Polypropylene Natural Fl...</td>\n",
       "      <td>very good&amp;#12290;But it has not started&amp;#12290...</td>\n",
       "      <td>5</td>\n",
       "      <td>very good12290But it has not started12290Packa...</td>\n",
       "      <td>1</td>\n",
       "    </tr>\n",
       "    <tr>\n",
       "      <th>69468</th>\n",
       "      <td>Dr. Brown\\'s BPA Free Polypropylene Natural Fl...</td>\n",
       "      <td>Used for Newborn 0 -3months with breast milk. ...</td>\n",
       "      <td>5</td>\n",
       "      <td>Used for Newborn 0 3months with breast milk  T...</td>\n",
       "      <td>1</td>\n",
       "    </tr>\n",
       "  </tbody>\n",
       "</table>\n",
       "</div>"
      ],
      "text/plain": [
       "                                                     name  ... feel\n",
       "44680                      QuickZip Crib Sheet Set, White  ...    1\n",
       "144348             Philips AVENT Thermal Gel Pads, 2-Pack  ...   -1\n",
       "25939                  Earlyears Fill n Fun Water Mat Toy  ...   -1\n",
       "69442   Dr. Brown\\'s BPA Free Polypropylene Natural Fl...  ...    1\n",
       "69468   Dr. Brown\\'s BPA Free Polypropylene Natural Fl...  ...    1\n",
       "\n",
       "[5 rows x 5 columns]"
      ]
     },
     "execution_count": 92,
     "metadata": {
      "tags": []
     },
     "output_type": "execute_result"
    }
   ],
   "source": [
    "negative_num = np.argsort(predicted_y)[:5]\n",
    "print (test_scores[negative_num[0]])\n",
    "test_data.iloc[negative_num]"
   ]
  },
  {
   "cell_type": "code",
   "execution_count": 0,
   "metadata": {
    "colab": {
     "base_uri": "https://localhost:8080/",
     "height": 221
    },
    "colab_type": "code",
    "id": "ouBic-bKP4ON",
    "outputId": "f1c56ca9-3fcd-4e3d-94c2-ba44535e82fd"
   },
   "outputs": [
    {
     "name": "stdout",
     "output_type": "stream",
     "text": [
      "1\n"
     ]
    },
    {
     "data": {
      "text/html": [
       "<div>\n",
       "<style scoped>\n",
       "    .dataframe tbody tr th:only-of-type {\n",
       "        vertical-align: middle;\n",
       "    }\n",
       "\n",
       "    .dataframe tbody tr th {\n",
       "        vertical-align: top;\n",
       "    }\n",
       "\n",
       "    .dataframe thead th {\n",
       "        text-align: right;\n",
       "    }\n",
       "</style>\n",
       "<table border=\"1\" class=\"dataframe\">\n",
       "  <thead>\n",
       "    <tr style=\"text-align: right;\">\n",
       "      <th></th>\n",
       "      <th>name</th>\n",
       "      <th>review</th>\n",
       "      <th>rating</th>\n",
       "      <th>review_new</th>\n",
       "      <th>feel</th>\n",
       "    </tr>\n",
       "  </thead>\n",
       "  <tbody>\n",
       "    <tr>\n",
       "      <th>8</th>\n",
       "      <td>Baby Tracker&amp;reg; - Daily Childcare Journal, S...</td>\n",
       "      <td>A friend of mine pinned this product on Pinter...</td>\n",
       "      <td>5</td>\n",
       "      <td>A friend of mine pinned this product on Pinter...</td>\n",
       "      <td>1</td>\n",
       "    </tr>\n",
       "    <tr>\n",
       "      <th>108173</th>\n",
       "      <td>One Step Ahead The Big Gripper Slip Proof Bath...</td>\n",
       "      <td>i have 2 kids (16 MO AND 2.5 YR) this mat is p...</td>\n",
       "      <td>5</td>\n",
       "      <td>i have 2 kids 16 MO AND 25 YR this mat is perf...</td>\n",
       "      <td>1</td>\n",
       "    </tr>\n",
       "    <tr>\n",
       "      <th>108169</th>\n",
       "      <td>One Step Ahead The Big Gripper Slip Proof Bath...</td>\n",
       "      <td>i bought this because it was described as \"sof...</td>\n",
       "      <td>3</td>\n",
       "      <td>i bought this because it was described as soft...</td>\n",
       "      <td>-1</td>\n",
       "    </tr>\n",
       "    <tr>\n",
       "      <th>108164</th>\n",
       "      <td>Ecopiggy Orthodontic Natural Pacifier (1pk) (0...</td>\n",
       "      <td>I love this product! I try to use natural thin...</td>\n",
       "      <td>5</td>\n",
       "      <td>I love this product I try to use natural thing...</td>\n",
       "      <td>1</td>\n",
       "    </tr>\n",
       "    <tr>\n",
       "      <th>108159</th>\n",
       "      <td>Bebe Dubon Soft Grip Brush and Comb Kit, Color...</td>\n",
       "      <td>We liked this set for our baby as the material...</td>\n",
       "      <td>4</td>\n",
       "      <td>We liked this set for our baby as the material...</td>\n",
       "      <td>1</td>\n",
       "    </tr>\n",
       "  </tbody>\n",
       "</table>\n",
       "</div>"
      ],
      "text/plain": [
       "                                                     name  ... feel\n",
       "8       Baby Tracker&reg; - Daily Childcare Journal, S...  ...    1\n",
       "108173  One Step Ahead The Big Gripper Slip Proof Bath...  ...    1\n",
       "108169  One Step Ahead The Big Gripper Slip Proof Bath...  ...   -1\n",
       "108164  Ecopiggy Orthodontic Natural Pacifier (1pk) (0...  ...    1\n",
       "108159  Bebe Dubon Soft Grip Brush and Comb Kit, Color...  ...    1\n",
       "\n",
       "[5 rows x 5 columns]"
      ]
     },
     "execution_count": 93,
     "metadata": {
      "tags": []
     },
     "output_type": "execute_result"
    }
   ],
   "source": [
    "positive_num = np.argsort(-predicted_y)[:5]\n",
    "print test_scores[positive_num[0]]\n",
    "test_data.iloc[positive_idx]"
   ]
  },
  {
   "cell_type": "code",
   "execution_count": 0,
   "metadata": {
    "colab": {},
    "colab_type": "code",
    "id": "k_1i71pqQ2oT"
   },
   "outputs": [],
   "source": []
  }
 ],
 "metadata": {
  "colab": {
   "collapsed_sections": [],
   "name": "Untitled12.ipynb",
   "provenance": []
  },
  "kernelspec": {
   "display_name": "Python 2",
   "name": "python2"
  }
 },
 "nbformat": 4,
 "nbformat_minor": 1
}
